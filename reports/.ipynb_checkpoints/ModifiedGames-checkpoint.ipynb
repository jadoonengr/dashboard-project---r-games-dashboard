{
 "cells": [
  {
   "cell_type": "markdown",
   "metadata": {},
   "source": [
    "### Video Games Dataset: EDA\n",
    "#### 1. Describe Dataset\n",
    "- **Who:** The data was acquired from Kaggle and supplied by the user Gregory Smith (https://www.kaggle.com/gregorut/videogamesales). The data was scraped from www.vgchartz.com. \n",
    "- **What:** The dataset contains a list of video games with sales greater than 100,000 from 1980 to 2020. It contains information such as the platform the game was made available, year of release, genre, publisher, sales in NA, sales in JP, sales in EU, sales in the rest of the world and global sales (total). The data set also includes the rank of games in terms of overall sales. **NOTE: Sales are in millions**\n",
    "- **When:** The data set was last updated 4 years ago but contains games released from 1980 to seemingly 2020. \n",
    "- **Why:** The video game industry is a very competitive yet profitable industry. While big companies with large amounts of resources have an edge over smaller companies, we have recently seen many small companies finding huge success. Not only in game creation but in the case of streamers for example, playing a game before it becomes mainstream might give you an edge against bigger name streamers. With this data set, we are able to gain insight into general idea such as performance of companies, most popular titles and genres. We are also able to dive deeper and look at changing genre popularities over time, regional preference in game genres/platforms, upcoming developer etc.  \n",
    "- **How:** The data set was scraped from the www.vgzchartz.com website using BeautifulSoup. The scraping script can be found here (https://github.com/GregorUT/vgchartzScrape)"
   ]
  },
  {
   "cell_type": "markdown",
   "metadata": {},
   "source": [
    "#### 2. Load Dataset"
   ]
  },
  {
   "cell_type": "code",
   "execution_count": 1,
   "metadata": {},
   "outputs": [
    {
     "data": {
      "text/plain": [
       "DataTransformerRegistry.enable('data_server')"
      ]
     },
     "execution_count": 1,
     "metadata": {},
     "output_type": "execute_result"
    }
   ],
   "source": [
    "import pandas as pd\n",
    "import numpy as np\n",
    "import altair as alt\n",
    "from altair_saver import save\n",
    "alt.renderers.enable('mimetype')\n",
    "alt.data_transformers.enable('data_server')"
   ]
  },
  {
   "cell_type": "code",
   "execution_count": 2,
   "metadata": {},
   "outputs": [],
   "source": [
    "game = pd.read_csv(\"vgsales.csv\")"
   ]
  },
  {
   "cell_type": "markdown",
   "metadata": {},
   "source": [
    "#### 3. Explore Dataset"
   ]
  },
  {
   "cell_type": "code",
   "execution_count": 3,
   "metadata": {},
   "outputs": [
    {
     "name": "stdout",
     "output_type": "stream",
     "text": [
      "<class 'pandas.core.frame.DataFrame'>\n",
      "RangeIndex: 16597 entries, 0 to 16596\n",
      "Data columns (total 11 columns):\n",
      " #   Column        Non-Null Count  Dtype  \n",
      "---  ------        --------------  -----  \n",
      " 0   Rank          16597 non-null  int64  \n",
      " 1   Name          16597 non-null  object \n",
      " 2   Platform      16597 non-null  object \n",
      " 3   Year          16326 non-null  float64\n",
      " 4   Genre         16597 non-null  object \n",
      " 5   Publisher     16539 non-null  object \n",
      " 6   NA_Sales      16597 non-null  float64\n",
      " 7   EU_Sales      16597 non-null  float64\n",
      " 8   JP_Sales      16597 non-null  float64\n",
      " 9   Other_Sales   16597 non-null  float64\n",
      " 10  Global_Sales  16597 non-null  float64\n",
      "dtypes: float64(6), int64(1), object(4)\n",
      "memory usage: 1.4+ MB\n",
      "\n",
      "Platform:\n",
      " ['Wii' 'NES' 'GB' 'DS' 'X360' 'PS3' 'PS2' 'SNES' 'GBA' '3DS' 'PS4' 'N64'\n",
      " 'PS' 'XB' 'PC' '2600' 'PSP' 'XOne' 'GC' 'WiiU' 'GEN' 'DC' 'PSV' 'SAT'\n",
      " 'SCD' 'WS' 'NG' 'TG16' '3DO' 'GG' 'PCFX'] \n",
      "Count:  31\n",
      "\n",
      "Year\n",
      " [2006. 1985. 2008. 2009. 1996. 1989. 1984. 2005. 1999. 2007. 2010. 2013.\n",
      " 2004. 1990. 1988. 2002. 2001. 2011. 1998. 2015. 2012. 2014. 1992. 1997.\n",
      " 1993. 1994. 1982. 2003. 1986. 2000.   nan 1995. 2016. 1991. 1981. 1987.\n",
      " 1980. 1983. 2017.] \n",
      "Count:  38\n",
      "\n",
      "Genre\n",
      " ['Sports' 'Platform' 'Racing' 'Role-Playing' 'Puzzle' 'Misc' 'Shooter'\n",
      " 'Simulation' 'Action' 'Fighting' 'Adventure' 'Strategy'] \n",
      "Count:  12\n",
      "\n",
      "Publishers\n",
      " ['Nintendo' 'Microsoft Game Studios' 'Take-Two Interactive'\n",
      " 'Sony Computer Entertainment' 'Activision' 'Ubisoft' 'Bethesda Softworks'\n",
      " 'Electronic Arts' 'Sega' 'SquareSoft' 'Atari' '505 Games' 'Capcom'\n",
      " 'GT Interactive' 'Konami Digital Entertainment'] \n",
      "Count:  578\n",
      "   Rank               Name Platform    Year     Genre Publisher\n",
      "0     1         Wii Sports      Wii  2006.0    Sports  Nintendo\n",
      "1     2  Super Mario Bros.      NES  1985.0  Platform  Nintendo\n",
      "9    10          Duck Hunt      NES  1984.0   Shooter  Nintendo\n",
      "5     6             Tetris       GB  1989.0    Puzzle  Nintendo\n",
      "2     3     Mario Kart Wii      Wii  2008.0    Racing  Nintendo\n",
      "    Rank                Name Platform    Year       Genre  \\\n",
      "0      1          Wii Sports      Wii  2006.0      Sports   \n",
      "2      3      Mario Kart Wii      Wii  2008.0      Racing   \n",
      "3      4   Wii Sports Resort      Wii  2009.0      Sports   \n",
      "10    11          Nintendogs       DS  2005.0  Simulation   \n",
      "16    17  Grand Theft Auto V      PS3  2013.0      Action   \n",
      "\n",
      "               Publisher  \n",
      "0               Nintendo  \n",
      "2               Nintendo  \n",
      "3               Nintendo  \n",
      "10              Nintendo  \n",
      "16  Take-Two Interactive  \n",
      "    Rank                           Name Platform    Year         Genre  \\\n",
      "4      5       Pokemon Red/Pokemon Blue       GB  1996.0  Role-Playing   \n",
      "12    13    Pokemon Gold/Pokemon Silver       GB  1999.0  Role-Playing   \n",
      "1      2              Super Mario Bros.      NES  1985.0      Platform   \n",
      "6      7          New Super Mario Bros.       DS  2006.0      Platform   \n",
      "20    21  Pokemon Diamond/Pokemon Pearl       DS  2006.0  Role-Playing   \n",
      "\n",
      "   Publisher  \n",
      "4   Nintendo  \n",
      "12  Nintendo  \n",
      "1   Nintendo  \n",
      "6   Nintendo  \n",
      "20  Nintendo  \n",
      "   Rank                      Name Platform    Year         Genre Publisher\n",
      "0     1                Wii Sports      Wii  2006.0        Sports  Nintendo\n",
      "1     2         Super Mario Bros.      NES  1985.0      Platform  Nintendo\n",
      "2     3            Mario Kart Wii      Wii  2008.0        Racing  Nintendo\n",
      "3     4         Wii Sports Resort      Wii  2009.0        Sports  Nintendo\n",
      "4     5  Pokemon Red/Pokemon Blue       GB  1996.0  Role-Playing  Nintendo\n",
      "Year\n",
      "1980.0       9\n",
      "1981.0      46\n",
      "1982.0      36\n",
      "1983.0      17\n",
      "1984.0      14\n",
      "1985.0      14\n",
      "1986.0      21\n",
      "1987.0      16\n",
      "1988.0      15\n",
      "1989.0      17\n",
      "1990.0      16\n",
      "1991.0      41\n",
      "1992.0      43\n",
      "1993.0      60\n",
      "1994.0     121\n",
      "1995.0     219\n",
      "1996.0     263\n",
      "1997.0     289\n",
      "1998.0     379\n",
      "1999.0     338\n",
      "2000.0     349\n",
      "2001.0     482\n",
      "2002.0     829\n",
      "2003.0     775\n",
      "2004.0     763\n",
      "2005.0     941\n",
      "2006.0    1008\n",
      "2007.0    1202\n",
      "2008.0    1428\n",
      "2009.0    1431\n",
      "2010.0    1259\n",
      "2011.0    1139\n",
      "2012.0     657\n",
      "2013.0     546\n",
      "2014.0     582\n",
      "2015.0     614\n",
      "2016.0     344\n",
      "2017.0       3\n",
      "dtype: int64\n",
      "Genre\n",
      "Action          3316\n",
      "Adventure       1286\n",
      "Fighting         848\n",
      "Misc            1739\n",
      "Platform         886\n",
      "Puzzle           582\n",
      "Racing          1249\n",
      "Role-Playing    1488\n",
      "Shooter         1310\n",
      "Simulation       866\n",
      "Sports          2346\n",
      "Strategy         681\n",
      "dtype: int64\n",
      "Platform\n",
      "2600     133\n",
      "3DO        3\n",
      "3DS      509\n",
      "DC        52\n",
      "DS      2162\n",
      "GB        98\n",
      "GBA      822\n",
      "GC       556\n",
      "GEN       27\n",
      "GG         1\n",
      "N64      319\n",
      "NES       98\n",
      "NG        12\n",
      "PC       960\n",
      "PCFX       1\n",
      "PS      1196\n",
      "PS2     2161\n",
      "PS3     1329\n",
      "PS4      336\n",
      "PSP     1213\n",
      "PSV      413\n",
      "SAT      173\n",
      "SCD        6\n",
      "SNES     239\n",
      "TG16       2\n",
      "WS         6\n",
      "Wii     1325\n",
      "WiiU     143\n",
      "X360    1265\n",
      "XB       824\n",
      "XOne     213\n",
      "dtype: int64\n"
     ]
    },
    {
     "data": {
      "text/html": [
       "<div>\n",
       "<style scoped>\n",
       "    .dataframe tbody tr th:only-of-type {\n",
       "        vertical-align: middle;\n",
       "    }\n",
       "\n",
       "    .dataframe tbody tr th {\n",
       "        vertical-align: top;\n",
       "    }\n",
       "\n",
       "    .dataframe thead th {\n",
       "        text-align: right;\n",
       "    }\n",
       "</style>\n",
       "<table border=\"1\" class=\"dataframe\">\n",
       "  <thead>\n",
       "    <tr style=\"text-align: right;\">\n",
       "      <th></th>\n",
       "      <th>Name</th>\n",
       "      <th>Platform</th>\n",
       "    </tr>\n",
       "  </thead>\n",
       "  <tbody>\n",
       "    <tr>\n",
       "      <th>14546</th>\n",
       "      <td>007: Quantum of Solace</td>\n",
       "      <td>PC</td>\n",
       "    </tr>\n",
       "    <tr>\n",
       "      <th>1273</th>\n",
       "      <td>007: Quantum of Solace</td>\n",
       "      <td>X360</td>\n",
       "    </tr>\n",
       "    <tr>\n",
       "      <th>4499</th>\n",
       "      <td>007: Quantum of Solace</td>\n",
       "      <td>PS2</td>\n",
       "    </tr>\n",
       "    <tr>\n",
       "      <th>3038</th>\n",
       "      <td>007: Quantum of Solace</td>\n",
       "      <td>Wii</td>\n",
       "    </tr>\n",
       "    <tr>\n",
       "      <th>9317</th>\n",
       "      <td>007: Quantum of Solace</td>\n",
       "      <td>DS</td>\n",
       "    </tr>\n",
       "    <tr>\n",
       "      <th>1739</th>\n",
       "      <td>007: Quantum of Solace</td>\n",
       "      <td>PS3</td>\n",
       "    </tr>\n",
       "    <tr>\n",
       "      <th>1200</th>\n",
       "      <td>007: The World is not Enough</td>\n",
       "      <td>N64</td>\n",
       "    </tr>\n",
       "    <tr>\n",
       "      <th>2247</th>\n",
       "      <td>007: The World is not Enough</td>\n",
       "      <td>PS</td>\n",
       "    </tr>\n",
       "    <tr>\n",
       "      <th>15004</th>\n",
       "      <td>11eyes: CrossOver</td>\n",
       "      <td>X360</td>\n",
       "    </tr>\n",
       "    <tr>\n",
       "      <th>15551</th>\n",
       "      <td>11eyes: CrossOver</td>\n",
       "      <td>PSP</td>\n",
       "    </tr>\n",
       "    <tr>\n",
       "      <th>10074</th>\n",
       "      <td>18 Wheeler: American Pro Trucker</td>\n",
       "      <td>GC</td>\n",
       "    </tr>\n",
       "    <tr>\n",
       "      <th>4830</th>\n",
       "      <td>18 Wheeler: American Pro Trucker</td>\n",
       "      <td>PS2</td>\n",
       "    </tr>\n",
       "    <tr>\n",
       "      <th>12252</th>\n",
       "      <td>187: Ride or Die</td>\n",
       "      <td>XB</td>\n",
       "    </tr>\n",
       "    <tr>\n",
       "      <th>8893</th>\n",
       "      <td>187: Ride or Die</td>\n",
       "      <td>PS2</td>\n",
       "    </tr>\n",
       "    <tr>\n",
       "      <th>9970</th>\n",
       "      <td>2 in 1 Combo Pack: Sonic Heroes / Super Monkey...</td>\n",
       "      <td>X360</td>\n",
       "    </tr>\n",
       "  </tbody>\n",
       "</table>\n",
       "</div>"
      ],
      "text/plain": [
       "                                                    Name Platform\n",
       "14546                             007: Quantum of Solace       PC\n",
       "1273                              007: Quantum of Solace     X360\n",
       "4499                              007: Quantum of Solace      PS2\n",
       "3038                              007: Quantum of Solace      Wii\n",
       "9317                              007: Quantum of Solace       DS\n",
       "1739                              007: Quantum of Solace      PS3\n",
       "1200                        007: The World is not Enough      N64\n",
       "2247                        007: The World is not Enough       PS\n",
       "15004                                  11eyes: CrossOver     X360\n",
       "15551                                  11eyes: CrossOver      PSP\n",
       "10074                   18 Wheeler: American Pro Trucker       GC\n",
       "4830                    18 Wheeler: American Pro Trucker      PS2\n",
       "12252                                   187: Ride or Die       XB\n",
       "8893                                    187: Ride or Die      PS2\n",
       "9970   2 in 1 Combo Pack: Sonic Heroes / Super Monkey...     X360"
      ]
     },
     "execution_count": 3,
     "metadata": {},
     "output_type": "execute_result"
    }
   ],
   "source": [
    "game.info()\n",
    "\n",
    "print(\"\\nPlatform:\\n\",game.Platform.unique(),\"\\nCount: \",game.Platform.nunique())\n",
    "print(\"\\nYear\\n\",game.Year.unique(),\"\\nCount: \",game.Year.nunique())\n",
    "print(\"\\nGenre\\n\",game.Genre.unique(),\"\\nCount: \",game.Genre.nunique())\n",
    "print(\"\\nPublishers\\n\",game.Publisher.unique()[0:15],\"\\nCount: \",game.Publisher.nunique())\n",
    "\n",
    "print(game.sort_values(\"NA_Sales\",ascending=False).head(5).iloc[:,0:6])\n",
    "print(game.sort_values(\"EU_Sales\",ascending=False).head(5).iloc[:,0:6])\n",
    "print(game.sort_values(\"JP_Sales\",ascending=False).head(5).iloc[:,0:6])\n",
    "print(game.sort_values(\"Global_Sales\",ascending=False).head(5).iloc[:,0:6])\n",
    "\n",
    "print(game.groupby(\"Year\").size())\n",
    "print(game.groupby(\"Genre\").size())\n",
    "print(game.groupby(\"Platform\").size())\n",
    "\n",
    "nulls = game[game.isna().any(axis=1)] #List of games with nulls in any field \n",
    "game.sort_values(\"Name\").loc[game.Name.isin(game.Name[game.Name.duplicated()]),[\"Name\",\"Platform\"]].head(15) #Game titles that show up on multiple platforms "
   ]
  },
  {
   "cell_type": "markdown",
   "metadata": {},
   "source": [
    "#### 4. Initial thoughts?\n",
    "- We have null values in Year and Publisher (Total of 307 rows with NaN values)\n",
    "- Year is a float, we could probably turn it into an int to make it prettier\n",
    "- We have 31 unique Platforms\n",
    "- We have 39 unique years (one being NaN)\n",
    "- We have 12 unique genres\n",
    "- We have 578 unique publishers\n",
    "- Looking at the top games in each region EU and NA are more similar in taste than JP\n",
    "    -JP loves their Pokemon\n",
    "    -Nintendo is the dominating Publisher in all regions \n",
    "- Years with the most releases are 2006 to 2011 with a peak of 1431 releases in 2009."
   ]
  },
  {
   "cell_type": "markdown",
   "metadata": {},
   "source": [
    "#### 5. Wrangling\n",
    "The main concern would be the NaN values. I feel the data is still valuable, we can remove/deal with those values on a need basis."
   ]
  },
  {
   "cell_type": "code",
   "execution_count": 4,
   "metadata": {},
   "outputs": [
    {
     "name": "stdout",
     "output_type": "stream",
     "text": [
      "Year\n",
      "2004.0    19\n",
      "2005.0     5\n",
      "2007.0     1\n",
      "2010.0     2\n",
      "2011.0     3\n",
      "2012.0     2\n",
      "2014.0     2\n",
      "2016.0     2\n",
      "dtype: int64\n",
      "Genre\n",
      "Action          65\n",
      "Adventure       12\n",
      "Fighting        12\n",
      "Misc            53\n",
      "Platform        11\n",
      "Puzzle          12\n",
      "Racing          24\n",
      "Role-Playing    18\n",
      "Shooter         28\n",
      "Simulation      19\n",
      "Sports          42\n",
      "Strategy        11\n",
      "dtype: int64\n",
      "Platform\n",
      "2600    17\n",
      "3DS     10\n",
      "DS      32\n",
      "GB       1\n",
      "GBA     36\n",
      "GC      14\n",
      "N64      3\n",
      "PC      22\n",
      "PS       7\n",
      "PS2     34\n",
      "PS3     25\n",
      "PSP     16\n",
      "PSV      3\n",
      "Wii     35\n",
      "X360    31\n",
      "XB      21\n",
      "dtype: int64\n"
     ]
    }
   ],
   "source": [
    "game.Year = game.Year.astype(\"Int64\")\n",
    "print(nulls.groupby(\"Year\").size())\n",
    "print(nulls.groupby(\"Genre\").size())\n",
    "print(nulls.groupby(\"Platform\").size())\n",
    "\n",
    "\n",
    "#For the analysis of sales - melting the NA,EU,JP,Other and Total columns\n",
    "game_melt = game.melt(id_vars=[\"Rank\", \"Name\",\"Platform\",\"Year\",\"Genre\",\"Publisher\"], \n",
    "        var_name=\"Region\", \n",
    "        value_name=\"Sales\").reset_index(drop=True)"
   ]
  },
  {
   "cell_type": "markdown",
   "metadata": {},
   "source": [
    "#### 6. Research Questions/Visualization+Analysis"
   ]
  },
  {
   "cell_type": "code",
   "execution_count": 30,
   "metadata": {},
   "outputs": [],
   "source": [
    "#1) Basic Exploratory visualisations of things we noted in the Initial Thoughts\n",
    "#Counts of number of games in each genre, platform and number of games released in each year\n",
    "#Genre and Platform counts are coloured by number of counts and sorted from largest to smallest\n",
    "#Year counts are coloured by year and sorted from largest to smallest \n",
    "sorted_genre_count = list(game.groupby(\"Genre\").size().sort_values(ascending=False).index)\n",
    "sorted_year_count = list(game.groupby(\"Year\").size().sort_values(ascending=False).index)\n",
    "sorted_platform_count = list(game.groupby(\"Platform\").size().sort_values(ascending=False).index)\n",
    "\n",
    "genre_count = alt.Chart(game).mark_bar().encode(\n",
    "    alt.X(\"Genre\",type=\"nominal\",sort=sorted_genre_count),\n",
    "    alt.Y(\"count()\",title=\"Number of games\",type=\"quantitative\"),\n",
    "    alt.Color(\"count()\",scale=alt.Scale(scheme='category20b'),legend=None),\n",
    "    alt.Tooltip(\"count()\"))\n",
    "\n",
    "year_count = alt.Chart(game).mark_bar().encode(\n",
    "    alt.X(\"Year\",type=\"ordinal\",sort=sorted_year_count),\n",
    "    alt.Y(\"count()\",title=\"Number of games\",type=\"quantitative\"),\n",
    "    alt.Color(\"Year\",scale=alt.Scale(scheme='category20c')),\n",
    "    alt.Tooltip(\"count()\"))\n",
    "\n",
    "platform_count = alt.Chart(game).mark_bar().encode(\n",
    "    alt.X(\"Platform\",type=\"nominal\",sort=sorted_platform_count),\n",
    "    alt.Y(\"count()\",title=\"Number of games\",type=\"quantitative\"),\n",
    "    alt.Color(\"count()\",scale=alt.Scale(scheme='category20b'),legend=None),\n",
    "    alt.Tooltip(\"count()\"))\n",
    "\n",
    "count_plots = ((genre_count.properties(width=333)|platform_count.properties(width=666)).resolve_scale(color='independent')\n",
    "               &year_count.properties(width=1000)).resolve_scale(color='independent').configure_axis(\n",
    "                labelFontSize=12,\n",
    "                titleFontSize=13)\n",
    "count_plots = count_plots.properties(title={\"text\": \"Number of games released by Genre, Platform and Year\", \n",
    "      \"subtitle\": [\"Counts only include games that have sold more than 100,000 copies. Bars for the Genre and Platform plot are coloured by number of games.\",\"\"]}).configure_title(fontSize = 25,subtitleFontSize=15)\n",
    "\n",
    "#2) Lets look at sales across Genres for each Region\n",
    "#Genres are sorted by decreasing Global Sales (Action is most sales vs Strategy is least)\n",
    "#Notice we see Shooters - while having fewer games released, still sold a lot of copies meaning their titles seemed to do well and the same (to a larger extent) can be said about Platformers.\n",
    "#Looking at the means of each genre, we can see exacly as we noticed above with the mean number of sales in the Shooter/Platform genre now ahead of the rest. \n",
    "#It is also interesting to see the trend across genres. We see NA, EU and Other sale patters tend to be more similar while JP sale patterns are distinct from the other regions, with a large emphasis on RPG, Platformers. \n",
    "sales_data = game_melt.loc[game_melt.Region != \"Global_Sales\",:]\n",
    "sorted_genre_totalsales = list(game.groupby(\"Genre\").sum().sort_values(\"Global_Sales\",ascending=False).index)\n",
    "\n",
    "genre_sales = alt.Chart(sales_data).mark_bar(opacity=0.5).encode(\n",
    "    alt.X(\"Genre\",type=\"nominal\",sort=sorted_genre_totalsales),\n",
    "    alt.Y(\"sum(Sales)\",title=\"Number of Copies Sold (in millions)\",type=\"quantitative\",stack=None),\n",
    "    alt.Color(\"Region\",scale=alt.Scale(scheme='set1'),type=\"nominal\"),\n",
    "    alt.Tooltip(\"Region\"))\n",
    "genre_sales = genre_sales+genre_sales.mark_circle()\n",
    "genre_mean_sales = alt.Chart(sales_data).mark_bar(opacity=0.5).encode(\n",
    "    alt.X(\"Genre\",type=\"nominal\",sort=sorted_genre_totalsales),\n",
    "    alt.Y(\"mean(Sales)\",title=\"Average Number of Sales (in millions)\",type=\"quantitative\",stack=None),\n",
    "    alt.Color(\"Region\",type=\"nominal\"),\n",
    "    alt.Tooltip(\"Region\"))\n",
    "\n",
    "genre_mean_sales = genre_mean_sales + genre_mean_sales.mark_circle()\n",
    "genre_plots = (genre_sales | genre_mean_sales).properties(title={\"text\":\"Comparing sales in each region by genre.\",\"subtitle\":[\"Bars and points represent number of sales in millions and coloured by Region.\",\"\"]}).configure_axis(\n",
    "                labelFontSize=12,\n",
    "                titleFontSize=13).configure_title(fontSize = 25,subtitleFontSize=15) \n",
    "\n",
    "#3) Lets investigate what's going on in each region. We can do so by looking at individual title by region and color the points by genre. Scatter plot: Top 3 games in each genre for each region \n",
    "    #This might help us explain and point out individual game titles that are dominating their genre.\n",
    "sorted_genre_NA = list(sales_data[sales_data.Region==\"NA_Sales\"].groupby(\"Genre\").sum().sort_values(\"Sales\",ascending=False).index)    \n",
    "sorted_genre_EU = list(sales_data[sales_data.Region==\"EU_Sales\"].groupby(\"Genre\").sum().sort_values(\"Sales\",ascending=False).index)      \n",
    "sorted_genre_JP = list(sales_data[sales_data.Region==\"JP_Sales\"].groupby(\"Genre\").sum().sort_values(\"Sales\",ascending=False).index)    \n",
    "sorted_genre_OT = list(sales_data[sales_data.Region==\"Other_Sales\"].groupby(\"Genre\").sum().sort_values(\"Sales\",ascending=False).index)    \n",
    "\n",
    "genre_region = alt.Chart(sales_data).mark_bar(opacity=0.5).encode(\n",
    "    alt.Y(\"Region\",type=\"nominal\",sort=sorted_genre_totalsales),\n",
    "    alt.X(\"sum(Sales)\",title=\"Total Number of Sales (in millions)\",type=\"quantitative\",stack=None),\n",
    "    alt.Color(\"Region\",scale=alt.Scale(scheme='set1'),type=\"nominal\",legend=None))\n",
    "\n",
    "title_NA =alt.Chart(sales_data[sales_data.Region==\"NA_Sales\"]).mark_circle(size=50).encode(\n",
    "    alt.X(\"Genre\",sort=sorted_genre_NA,title=None),\n",
    "    alt.Y(\"Sales:Q\",stack=None, title=\"Number of Copies Sold (in millions)\"),\n",
    "    alt.Color(\"Genre\",scale=alt.Scale(scheme='category20'),legend=None),\n",
    "    alt.Tooltip(\"Name\"))\n",
    "title_NA = title_NA + alt.Chart(sales_data[sales_data.Region==\"NA_Sales\"].sort_values(\"Sales\",ascending=False).iloc[:5,]).mark_text(align = \"left\", dx=10).encode(\n",
    "    alt.X(\"Genre\",sort=sorted_genre_NA),\n",
    "    alt.Y(\"Sales:Q\"),\n",
    "    text=\"Name\").properties(title=\"NA Sales\")\n",
    "\n",
    "title_JP =alt.Chart(sales_data[sales_data.Region==\"JP_Sales\"]).mark_circle(size=50).encode(\n",
    "    alt.X(\"Genre\",sort=sorted_genre_JP,title=None),\n",
    "    alt.Y(\"Sales:Q\",stack=None,title=None),\n",
    "    alt.Color(\"Genre\",scale=alt.Scale(scheme='category20'),legend=None),\n",
    "    alt.Tooltip(\"Name\"))\n",
    "title_JP = title_JP + alt.Chart(sales_data[sales_data.Region==\"JP_Sales\"].sort_values(\"Sales\",ascending=False).iloc[:5,]).mark_text(align = \"left\", dx=10).encode(\n",
    "    alt.X(\"Genre\",sort=sorted_genre_JP),\n",
    "    alt.Y(\"Sales:Q\"),\n",
    "    text=\"Name\").properties(title=\"JP Sales\")\n",
    "\n",
    "title_EU =alt.Chart(sales_data[sales_data.Region==\"EU_Sales\"]).mark_circle(size=50).encode(\n",
    "    alt.X(\"Genre\",sort=sorted_genre_EU,title=None),\n",
    "    alt.Y(\"Sales:Q\",stack=None,title=None),\n",
    "    alt.Color(\"Genre\",scale=alt.Scale(scheme='category20'),legend=None),\n",
    "    alt.Tooltip(\"Name\"))\n",
    "title_EU = title_EU + alt.Chart(sales_data[sales_data.Region==\"EU_Sales\"].sort_values(\"Sales\",ascending=False).iloc[:5,]).mark_text(align = \"left\", dx=10).encode(\n",
    "    alt.X(\"Genre\",sort=sorted_genre_EU),\n",
    "    alt.Y(\"Sales:Q\"),\n",
    "    text=\"Name\").properties(title=\"EU Sales\")\n",
    "\n",
    "title_OT =alt.Chart(sales_data[sales_data.Region==\"Other_Sales\"]).mark_circle(size=50).encode(\n",
    "    alt.X(\"Genre\",sort=sorted_genre_OT,title=None),\n",
    "    alt.Y(\"Sales:Q\",stack=None,title=None),\n",
    "    alt.Color(\"Genre\",scale=alt.Scale(scheme='category20'),legend=None),\n",
    "    alt.Tooltip(\"Name\"))\n",
    "\n",
    "title_OT = title_OT + alt.Chart(sales_data[sales_data.Region==\"Other_Sales\"].sort_values(\"Sales\",ascending=False).iloc[:5,]).mark_text(align = \"left\", dx=10).encode(\n",
    "    alt.X(\"Genre\",sort=sorted_genre_OT),\n",
    "    alt.Y(\"Sales:Q\"),\n",
    "    text=\"Name\").properties(title=\"Other Sales\")\n",
    "\n",
    "name_sales = (title_NA.properties(width=250) | title_EU.properties(width=250) | title_JP.properties(width=250) | title_OT.properties(width=250))\n",
    "name_sales = name_sales & genre_region.properties(width=1210).resolve_scale(color='independent')\n",
    "name_sales = name_sales.properties(title={\"text\":\"Distribution of games titles across each Region by Genre.\",\"subtitle\":[\"Top 5 games in each region are labelled. Overall Regional perfomance shown below.\",\"\"]}).configure_axis(\n",
    "                labelFontSize=12,\n",
    "                titleFontSize=13).configure_title(fontSize = 20,subtitleFontSize=15) \n",
    "\n",
    "#4) Growth of Game Genres, Publishers and Platforms over the Years\n",
    "genre_data = pd.Series(game.groupby(['Year','Genre']).size().groupby('Year').size(), name='Genre')\n",
    "pub_data = pd.Series(game.groupby(['Year','Publisher']).size().groupby('Year').size(), name='Publisher')\n",
    "plat_data = pd.Series(game.groupby(['Year','Platform']).size().groupby('Year').size(), name='Platform')\n",
    "rel_data = pd.concat([genre_data,pub_data,plat_data], axis=1).reset_index()\n",
    "\n",
    "plot4=alt.Chart(rel_data).transform_fold(['Genre','Publisher','Platform']\n",
    ").mark_bar(point=True).encode(\n",
    "    x='Year:O',\n",
    "    y=alt.Y('value:Q', axis=alt.Axis(title='Number of Genre/Publishers/Platforms')),\n",
    "    color=alt.Color('key:N', legend=alt.Legend(title='Feature'))\n",
    ").properties(width=1000)\n",
    "\n",
    "#5) Maximum Annual Global Sales Numbers\n",
    "plot5=alt.Chart(game).mark_line(point=True).encode(\n",
    "    x='Year:N',\n",
    "    y=alt.Y('max(Global_Sales):Q', axis=alt.Axis(title='Maximum Annual Global Sales'))\n",
    ").properties(width=1000)"
   ]
  },
  {
   "cell_type": "code",
   "execution_count": 31,
   "metadata": {},
   "outputs": [
    {
     "data": {
      "application/vnd.vegalite.v4+json": {
       "$schema": "https://vega.github.io/schema/vega-lite/v4.8.1.json",
       "config": {
        "axis": {
         "labelFontSize": 12,
         "titleFontSize": 14
        },
        "title": {
         "fontSize": 20,
         "subtitleFontSize": 16
        },
        "view": {
         "continuousHeight": 300,
         "continuousWidth": 400
        }
       },
       "data": {
        "url": "http://localhost:20716/448d6585c852bb4587381e6d68d4b43b.json"
       },
       "encoding": {
        "color": {
         "aggregate": "count",
         "legend": null,
         "scale": {
          "scheme": "category20b"
         },
         "type": "quantitative"
        },
        "tooltip": {
         "aggregate": "count",
         "type": "quantitative"
        },
        "x": {
         "field": "Genre",
         "sort": [
          "Action",
          "Sports",
          "Misc",
          "Role-Playing",
          "Shooter",
          "Adventure",
          "Racing",
          "Platform",
          "Simulation",
          "Fighting",
          "Strategy",
          "Puzzle"
         ],
         "type": "nominal"
        },
        "y": {
         "aggregate": "count",
         "title": "Number of games",
         "type": "quantitative"
        }
       },
       "height": 250,
       "mark": "bar",
       "title": {
        "subtitle": [
         "Only games that sold over 100,000 copies are depicted.",
         " "
        ],
        "text": "Number of Game Released by Genre from 1980 to 2017"
       },
       "width": 750
      },
      "image/png": "[encoded data removed]",
      "text/plain": [
       "<VegaLite 4 object>\n",
       "\n",
       "If you see this message, it means the renderer has not been properly enabled\n",
       "for the frontend that you are using. For more information, see\n",
       "https://altair-viz.github.io/user_guide/troubleshooting.html\n"
      ]
     },
     "execution_count": 31,
     "metadata": {},
     "output_type": "execute_result"
    }
   ],
   "source": [
    "genre_count.properties(title={\"text\":\"Number of Game Released by Genre from 1980 to 2017\",\"subtitle\":[\"Only games that sold over 100,000 copies are depicted.\",\" \"]}, width=750,height=250).configure_axis(labelFontSize=12,titleFontSize=14).configure_title(fontSize = 20,subtitleFontSize=16) "
   ]
  },
  {
   "cell_type": "code",
   "execution_count": 32,
   "metadata": {},
   "outputs": [
    {
     "data": {
      "application/vnd.vegalite.v4+json": {
       "$schema": "https://vega.github.io/schema/vega-lite/v4.8.1.json",
       "config": {
        "axis": {
         "labelFontSize": 12,
         "titleFontSize": 14
        },
        "legend": {
         "labelFontSize": 12,
         "titleFontSize": 14
        },
        "title": {
         "fontSize": 20,
         "subtitleFontSize": 16
        },
        "view": {
         "continuousHeight": 300,
         "continuousWidth": 400
        }
       },
       "data": {
        "url": "http://localhost:20716/967a020c0ba7deed1047e9673c6c734a.json"
       },
       "height": 250,
       "layer": [
        {
         "encoding": {
          "color": {
           "field": "Region",
           "scale": {
            "scheme": "set1"
           },
           "type": "nominal"
          },
          "tooltip": {
           "field": "Region",
           "type": "nominal"
          },
          "x": {
           "field": "Genre",
           "sort": [
            "Action",
            "Sports",
            "Shooter",
            "Role-Playing",
            "Platform",
            "Misc",
            "Racing",
            "Fighting",
            "Simulation",
            "Puzzle",
            "Adventure",
            "Strategy"
           ],
           "type": "nominal"
          },
          "y": {
           "aggregate": "sum",
           "field": "Sales",
           "stack": null,
           "title": "Number of Copies Sold (in millions)",
           "type": "quantitative"
          }
         },
         "mark": {
          "opacity": 0.5,
          "type": "bar"
         }
        },
        {
         "encoding": {
          "color": {
           "field": "Region",
           "scale": {
            "scheme": "set1"
           },
           "type": "nominal"
          },
          "tooltip": {
           "field": "Region",
           "type": "nominal"
          },
          "x": {
           "field": "Genre",
           "sort": [
            "Action",
            "Sports",
            "Shooter",
            "Role-Playing",
            "Platform",
            "Misc",
            "Racing",
            "Fighting",
            "Simulation",
            "Puzzle",
            "Adventure",
            "Strategy"
           ],
           "type": "nominal"
          },
          "y": {
           "aggregate": "sum",
           "field": "Sales",
           "stack": null,
           "title": "Number of Copies Sold (in millions)",
           "type": "quantitative"
          }
         },
         "mark": "circle"
        }
       ],
       "title": {
        "subtitle": [
         "Bars and points represent number of sales in millions and coloured by Region.",
         ""
        ],
        "text": "Comparing Copies Sold by Genre across Regions"
       },
       "width": 750
      },
      "image/png": "[encoded data removed]",
      "text/plain": [
       "<VegaLite 4 object>\n",
       "\n",
       "If you see this message, it means the renderer has not been properly enabled\n",
       "for the frontend that you are using. For more information, see\n",
       "https://altair-viz.github.io/user_guide/troubleshooting.html\n"
      ]
     },
     "execution_count": 32,
     "metadata": {},
     "output_type": "execute_result"
    }
   ],
   "source": [
    "genre_sales.properties(title={\"text\":\"Comparing Copies Sold by Genre across Regions\",\"subtitle\":[\"Bars and points represent number of sales in millions and coloured by Region.\",\"\"]}, width=750,height=250\n",
    "                      ).configure_axis(labelFontSize=12,titleFontSize=14\n",
    "                      ).configure_title(fontSize = 20,subtitleFontSize=16\n",
    "                    ).configure_legend(titleFontSize=14,labelFontSize=12) "
   ]
  },
  {
   "cell_type": "code",
   "execution_count": 33,
   "metadata": {},
   "outputs": [
    {
     "data": {
      "application/vnd.vegalite.v4+json": {
       "$schema": "https://vega.github.io/schema/vega-lite/v4.8.1.json",
       "config": {
        "axis": {
         "labelFontSize": 12,
         "titleFontSize": 14
        },
        "legend": {
         "labelFontSize": 12,
         "titleFontSize": 14
        },
        "title": {
         "fontSize": 20,
         "subtitleFontSize": 16
        },
        "view": {
         "continuousHeight": 300,
         "continuousWidth": 400
        }
       },
       "hconcat": [
        {
         "layer": [
          {
           "data": {
            "url": "http://localhost:20716/1e0eb71e60e9d91e2536d8e7f0e62bb3.json"
           },
           "encoding": {
            "color": {
             "field": "Genre",
             "legend": null,
             "scale": {
              "scheme": "category20"
             },
             "type": "nominal"
            },
            "tooltip": {
             "field": "Name",
             "type": "nominal"
            },
            "x": {
             "field": "Genre",
             "sort": [
              "Action",
              "Sports",
              "Shooter",
              "Platform",
              "Misc",
              "Racing",
              "Role-Playing",
              "Fighting",
              "Simulation",
              "Puzzle",
              "Adventure",
              "Strategy"
             ],
             "title": null,
             "type": "nominal"
            },
            "y": {
             "field": "Sales",
             "stack": null,
             "title": "Number of Copies Sold (in millions)",
             "type": "quantitative"
            }
           },
           "mark": {
            "size": 50,
            "type": "circle"
           }
          },
          {
           "data": {
            "url": "http://localhost:20716/51dd0f701d7c6ea5cbdc28f740c6e9ed.json"
           },
           "encoding": {
            "text": {
             "field": "Name",
             "type": "nominal"
            },
            "x": {
             "field": "Genre",
             "sort": [
              "Action",
              "Sports",
              "Shooter",
              "Platform",
              "Misc",
              "Racing",
              "Role-Playing",
              "Fighting",
              "Simulation",
              "Puzzle",
              "Adventure",
              "Strategy"
             ],
             "type": "nominal"
            },
            "y": {
             "field": "Sales",
             "type": "quantitative"
            }
           },
           "mark": {
            "align": "left",
            "dx": 10,
            "type": "text"
           },
           "title": "NA Sales"
          }
         ],
         "width": 250
        },
        {
         "layer": [
          {
           "data": {
            "url": "http://localhost:20716/3d1344d6cba84474c390245d7f6c3340.json"
           },
           "encoding": {
            "color": {
             "field": "Genre",
             "legend": null,
             "scale": {
              "scheme": "category20"
             },
             "type": "nominal"
            },
            "tooltip": {
             "field": "Name",
             "type": "nominal"
            },
            "x": {
             "field": "Genre",
             "sort": [
              "Action",
              "Sports",
              "Shooter",
              "Racing",
              "Misc",
              "Platform",
              "Role-Playing",
              "Simulation",
              "Fighting",
              "Adventure",
              "Puzzle",
              "Strategy"
             ],
             "title": null,
             "type": "nominal"
            },
            "y": {
             "field": "Sales",
             "stack": null,
             "title": null,
             "type": "quantitative"
            }
           },
           "mark": {
            "size": 50,
            "type": "circle"
           }
          },
          {
           "data": {
            "url": "http://localhost:20716/859b1030017bdc5bd84c8af24e8e1631.json"
           },
           "encoding": {
            "text": {
             "field": "Name",
             "type": "nominal"
            },
            "x": {
             "field": "Genre",
             "sort": [
              "Action",
              "Sports",
              "Shooter",
              "Racing",
              "Misc",
              "Platform",
              "Role-Playing",
              "Simulation",
              "Fighting",
              "Adventure",
              "Puzzle",
              "Strategy"
             ],
             "type": "nominal"
            },
            "y": {
             "field": "Sales",
             "type": "quantitative"
            }
           },
           "mark": {
            "align": "left",
            "dx": 10,
            "type": "text"
           },
           "title": "EU Sales"
          }
         ],
         "width": 250
        },
        {
         "layer": [
          {
           "data": {
            "url": "http://localhost:20716/9f7901157f8f9d8eff23cdd356e7b540.json"
           },
           "encoding": {
            "color": {
             "field": "Genre",
             "legend": null,
             "scale": {
              "scheme": "category20"
             },
             "type": "nominal"
            },
            "tooltip": {
             "field": "Name",
             "type": "nominal"
            },
            "x": {
             "field": "Genre",
             "sort": [
              "Role-Playing",
              "Action",
              "Sports",
              "Platform",
              "Misc",
              "Fighting",
              "Simulation",
              "Puzzle",
              "Racing",
              "Adventure",
              "Strategy",
              "Shooter"
             ],
             "title": null,
             "type": "nominal"
            },
            "y": {
             "field": "Sales",
             "stack": null,
             "title": null,
             "type": "quantitative"
            }
           },
           "mark": {
            "size": 50,
            "type": "circle"
           }
          },
          {
           "data": {
            "url": "http://localhost:20716/601f637a710e8794ec375b1896704880.json"
           },
           "encoding": {
            "text": {
             "field": "Name",
             "type": "nominal"
            },
            "x": {
             "field": "Genre",
             "sort": [
              "Role-Playing",
              "Action",
              "Sports",
              "Platform",
              "Misc",
              "Fighting",
              "Simulation",
              "Puzzle",
              "Racing",
              "Adventure",
              "Strategy",
              "Shooter"
             ],
             "type": "nominal"
            },
            "y": {
             "field": "Sales",
             "type": "quantitative"
            }
           },
           "mark": {
            "align": "left",
            "dx": 10,
            "type": "text"
           },
           "title": "JP Sales"
          }
         ],
         "width": 250
        },
        {
         "layer": [
          {
           "data": {
            "url": "http://localhost:20716/afcaf6c44f71875c2de758b03adaff16.json"
           },
           "encoding": {
            "color": {
             "field": "Genre",
             "legend": null,
             "scale": {
              "scheme": "category20"
             },
             "type": "nominal"
            },
            "tooltip": {
             "field": "Name",
             "type": "nominal"
            },
            "x": {
             "field": "Genre",
             "sort": [
              "Action",
              "Sports",
              "Shooter",
              "Racing",
              "Misc",
              "Role-Playing",
              "Platform",
              "Fighting",
              "Simulation",
              "Adventure",
              "Puzzle",
              "Strategy"
             ],
             "title": null,
             "type": "nominal"
            },
            "y": {
             "field": "Sales",
             "stack": null,
             "title": null,
             "type": "quantitative"
            }
           },
           "mark": {
            "size": 50,
            "type": "circle"
           }
          },
          {
           "data": {
            "url": "http://localhost:20716/56281a5259a17fe2efbabef7e4f2c5b4.json"
           },
           "encoding": {
            "text": {
             "field": "Name",
             "type": "nominal"
            },
            "x": {
             "field": "Genre",
             "sort": [
              "Action",
              "Sports",
              "Shooter",
              "Racing",
              "Misc",
              "Role-Playing",
              "Platform",
              "Fighting",
              "Simulation",
              "Adventure",
              "Puzzle",
              "Strategy"
             ],
             "type": "nominal"
            },
            "y": {
             "field": "Sales",
             "type": "quantitative"
            }
           },
           "mark": {
            "align": "left",
            "dx": 10,
            "type": "text"
           },
           "title": "Other Sales"
          }
         ],
         "width": 250
        }
       ],
       "title": {
        "subtitle": [
         "Top 5 games in each region are labelled.",
         ""
        ],
        "text": "Distribution of games titles across each Region by Genre"
       }
      },
      "image/png": "[encoded data removed]",
      "text/plain": [
       "<VegaLite 4 object>\n",
       "\n",
       "If you see this message, it means the renderer has not been properly enabled\n",
       "for the frontend that you are using. For more information, see\n",
       "https://altair-viz.github.io/user_guide/troubleshooting.html\n"
      ]
     },
     "execution_count": 33,
     "metadata": {},
     "output_type": "execute_result"
    }
   ],
   "source": [
    "name_sales = (title_NA.properties(width=250) | title_EU.properties(width=250) | title_JP.properties(width=250) | title_OT.properties(width=250))\n",
    "name_sales = name_sales.properties(title={\"text\":\"Distribution of games titles across each Region by Genre\",\"subtitle\":[\"Top 5 games in each region are labelled.\",\"\"]}).configure_axis(labelFontSize=12,titleFontSize=14\n",
    "                      ).configure_title(fontSize = 20,subtitleFontSize=16\n",
    "                    ).configure_legend(titleFontSize=14,labelFontSize=12) \n",
    "name_sales"
   ]
  },
  {
   "cell_type": "markdown",
   "metadata": {},
   "source": [
    "1) **Basic Exploratory visualizations of things we noted in the 'Initial Thoughts'**\n",
    "- Counts of number of games in each genre, platform and number of games released in each year\n",
    "- Genre and Platform counts are colored by number of counts and sorted from largest to smallest\n",
    "- Year counts are colored by year and sorted from largest to smallest \n",
    "- We see Action is quite ahead of other genres in terms of numbers of games released, followed by Sports\n",
    "- We see DS and PS2 have the highest number of games released in terms of Platform. \n",
    "- The years 2006-2011 have the highest number of game released. \n",
    "\n",
    "There are a ton of different ways to analyze this data set, lets just look at Genres for now."
   ]
  },
  {
   "cell_type": "code",
   "execution_count": 7,
   "metadata": {},
   "outputs": [
    {
     "data": {
      "application/vnd.vegalite.v4+json": {
       "$schema": "https://vega.github.io/schema/vega-lite/v4.8.1.json",
       "config": {
        "axis": {
         "labelFontSize": 12,
         "titleFontSize": 13
        },
        "title": {
         "fontSize": 25,
         "subtitleFontSize": 15
        },
        "view": {
         "continuousHeight": 300,
         "continuousWidth": 400
        }
       },
       "data": {
        "url": "http://localhost:20716/448d6585c852bb4587381e6d68d4b43b.json"
       },
       "resolve": {
        "scale": {
         "color": "independent"
        }
       },
       "title": {
        "subtitle": [
         "Counts only include games that have sold more than 100,000 copies. Bars for the Genre and Platform plot are coloured by number of games.",
         ""
        ],
        "text": "Number of games released by Genre, Platform and Year"
       },
       "vconcat": [
        {
         "hconcat": [
          {
           "encoding": {
            "color": {
             "aggregate": "count",
             "legend": null,
             "scale": {
              "scheme": "category20b"
             },
             "type": "quantitative"
            },
            "tooltip": {
             "aggregate": "count",
             "type": "quantitative"
            },
            "x": {
             "field": "Genre",
             "sort": [
              "Action",
              "Sports",
              "Misc",
              "Role-Playing",
              "Shooter",
              "Adventure",
              "Racing",
              "Platform",
              "Simulation",
              "Fighting",
              "Strategy",
              "Puzzle"
             ],
             "type": "nominal"
            },
            "y": {
             "aggregate": "count",
             "title": "Number of games",
             "type": "quantitative"
            }
           },
           "mark": "bar",
           "width": 333
          },
          {
           "encoding": {
            "color": {
             "aggregate": "count",
             "legend": null,
             "scale": {
              "scheme": "category20b"
             },
             "type": "quantitative"
            },
            "tooltip": {
             "aggregate": "count",
             "type": "quantitative"
            },
            "x": {
             "field": "Platform",
             "sort": [
              "DS",
              "PS2",
              "PS3",
              "Wii",
              "X360",
              "PSP",
              "PS",
              "PC",
              "XB",
              "GBA",
              "GC",
              "3DS",
              "PSV",
              "PS4",
              "N64",
              "SNES",
              "XOne",
              "SAT",
              "WiiU",
              "2600",
              "NES",
              "GB",
              "DC",
              "GEN",
              "NG",
              "SCD",
              "WS",
              "3DO",
              "TG16",
              "PCFX",
              "GG"
             ],
             "type": "nominal"
            },
            "y": {
             "aggregate": "count",
             "title": "Number of games",
             "type": "quantitative"
            }
           },
           "mark": "bar",
           "width": 666
          }
         ],
         "resolve": {
          "scale": {
           "color": "independent"
          }
         }
        },
        {
         "encoding": {
          "color": {
           "field": "Year",
           "scale": {
            "scheme": "category20c"
           },
           "type": "quantitative"
          },
          "tooltip": {
           "aggregate": "count",
           "type": "quantitative"
          },
          "x": {
           "field": "Year",
           "sort": [
            2009,
            2008,
            2010,
            2007,
            2011,
            2006,
            2005,
            2002,
            2003,
            2004,
            2012,
            2015,
            2014,
            2013,
            2001,
            1998,
            2000,
            2016,
            1999,
            1997,
            1996,
            1995,
            1994,
            1993,
            1981,
            1992,
            1991,
            1982,
            1986,
            1989,
            1983,
            1987,
            1990,
            1988,
            1985,
            1984,
            1980,
            2017
           ],
           "type": "ordinal"
          },
          "y": {
           "aggregate": "count",
           "title": "Number of games",
           "type": "quantitative"
          }
         },
         "mark": "bar",
         "width": 1000
        }
       ]
      },
      "image/png": "[encoded data removed]",
      "text/plain": [
       "<VegaLite 4 object>\n",
       "\n",
       "If you see this message, it means the renderer has not been properly enabled\n",
       "for the frontend that you are using. For more information, see\n",
       "https://altair-viz.github.io/user_guide/troubleshooting.html\n"
      ]
     },
     "execution_count": 7,
     "metadata": {},
     "output_type": "execute_result"
    }
   ],
   "source": [
    "count_plots"
   ]
  },
  {
   "cell_type": "markdown",
   "metadata": {},
   "source": [
    "2) **Sales across Genres for each Region**\n",
    "- Genres are sorted by decreasing Global Sales (Action is most sales vs Strategy is least)\n",
    "- Notice we see Shooters - while having fewer games released, still sold a lot of copies meaning their titles seemed to do well and the same (to a larger extent) can be said about Platformers.\n",
    "- Looking at the means of each genre, we can see exactly as we noticed above with the mean number of sales in the Shooter/Platform genre now ahead of the rest. \n",
    "- It is also interesting to see the trend across genres. We see NA, EU and Other sale patters tend to be more similar while JP sale patterns are distinct from the other regions, with a large emphasis on RPG, Platformers.\n",
    "\n",
    "Lets investigate what's going on in each region. We can do so by looking at individual titles by region. This might help us explain and point out individual game titles that are dominating their genre."
   ]
  },
  {
   "cell_type": "code",
   "execution_count": 8,
   "metadata": {},
   "outputs": [
    {
     "data": {
      "application/vnd.vegalite.v4+json": {
       "$schema": "https://vega.github.io/schema/vega-lite/v4.8.1.json",
       "config": {
        "axis": {
         "labelFontSize": 12,
         "titleFontSize": 13
        },
        "title": {
         "fontSize": 25,
         "subtitleFontSize": 15
        },
        "view": {
         "continuousHeight": 300,
         "continuousWidth": 400
        }
       },
       "data": {
        "url": "http://localhost:20716/967a020c0ba7deed1047e9673c6c734a.json"
       },
       "hconcat": [
        {
         "layer": [
          {
           "encoding": {
            "color": {
             "field": "Region",
             "scale": {
              "scheme": "set1"
             },
             "type": "nominal"
            },
            "tooltip": {
             "field": "Region",
             "type": "nominal"
            },
            "x": {
             "field": "Genre",
             "sort": [
              "Action",
              "Sports",
              "Shooter",
              "Role-Playing",
              "Platform",
              "Misc",
              "Racing",
              "Fighting",
              "Simulation",
              "Puzzle",
              "Adventure",
              "Strategy"
             ],
             "type": "nominal"
            },
            "y": {
             "aggregate": "sum",
             "field": "Sales",
             "stack": null,
             "title": "Total Number of Sales (in millions)",
             "type": "quantitative"
            }
           },
           "mark": {
            "opacity": 0.5,
            "type": "bar"
           }
          },
          {
           "encoding": {
            "color": {
             "field": "Region",
             "scale": {
              "scheme": "set1"
             },
             "type": "nominal"
            },
            "tooltip": {
             "field": "Region",
             "type": "nominal"
            },
            "x": {
             "field": "Genre",
             "sort": [
              "Action",
              "Sports",
              "Shooter",
              "Role-Playing",
              "Platform",
              "Misc",
              "Racing",
              "Fighting",
              "Simulation",
              "Puzzle",
              "Adventure",
              "Strategy"
             ],
             "type": "nominal"
            },
            "y": {
             "aggregate": "sum",
             "field": "Sales",
             "stack": null,
             "title": "Total Number of Sales (in millions)",
             "type": "quantitative"
            }
           },
           "mark": "circle"
          }
         ]
        },
        {
         "layer": [
          {
           "encoding": {
            "color": {
             "field": "Region",
             "type": "nominal"
            },
            "tooltip": {
             "field": "Region",
             "type": "nominal"
            },
            "x": {
             "field": "Genre",
             "sort": [
              "Action",
              "Sports",
              "Shooter",
              "Role-Playing",
              "Platform",
              "Misc",
              "Racing",
              "Fighting",
              "Simulation",
              "Puzzle",
              "Adventure",
              "Strategy"
             ],
             "type": "nominal"
            },
            "y": {
             "aggregate": "mean",
             "field": "Sales",
             "stack": null,
             "title": "Average Number of Sales (in millions)",
             "type": "quantitative"
            }
           },
           "mark": {
            "opacity": 0.5,
            "type": "bar"
           }
          },
          {
           "encoding": {
            "color": {
             "field": "Region",
             "type": "nominal"
            },
            "tooltip": {
             "field": "Region",
             "type": "nominal"
            },
            "x": {
             "field": "Genre",
             "sort": [
              "Action",
              "Sports",
              "Shooter",
              "Role-Playing",
              "Platform",
              "Misc",
              "Racing",
              "Fighting",
              "Simulation",
              "Puzzle",
              "Adventure",
              "Strategy"
             ],
             "type": "nominal"
            },
            "y": {
             "aggregate": "mean",
             "field": "Sales",
             "stack": null,
             "title": "Average Number of Sales (in millions)",
             "type": "quantitative"
            }
           },
           "mark": "circle"
          }
         ]
        }
       ],
       "title": {
        "subtitle": [
         "Bars and points represent number of sales in millions and coloured by Region.",
         ""
        ],
        "text": "Comparing sales in each region by genre."
       }
      },
      "image/png": "[encoded data removed]",
      "text/plain": [
       "<VegaLite 4 object>\n",
       "\n",
       "If you see this message, it means the renderer has not been properly enabled\n",
       "for the frontend that you are using. For more information, see\n",
       "https://altair-viz.github.io/user_guide/troubleshooting.html\n"
      ]
     },
     "execution_count": 8,
     "metadata": {},
     "output_type": "execute_result"
    }
   ],
   "source": [
    "genre_plots"
   ]
  },
  {
   "cell_type": "markdown",
   "metadata": {},
   "source": [
    "3) **Distribution of game titles by Genre across each Region**\n",
    "- The top 5 titles in each region across genres are labeled. The genres are also sorted by most sales (left) to least sales (right). \n",
    "- Just by looking at the scales, it seems NA sells the most copies, followed by EU, JP and Other. This is also re-enforced by the bar plot below showing the total number of copies sold (in millions) by region. \n",
    "- Looking at genres across regions, we see NA, EU and Other are similar (as concluded from the plot before). While Action and Sports are still in the Top 3 genres for JP, we see RPG being first and Shooters being last.\n",
    "- We see NA, EU and Other having similar Top 5 games, all having Wii Sports and Mario Kart.\n",
    "- The JP region seems to love their RPG games which makes sense as they even have a subcategory named after them (JRPGs - Japanese RPGs)\n",
    "- We see the bulk of games in most regions (except Other) lie around or below the 5 million copies sold mark and relatively few titles make it above."
   ]
  },
  {
   "cell_type": "code",
   "execution_count": 20,
   "metadata": {},
   "outputs": [
    {
     "data": {
      "application/vnd.vegalite.v4+json": {
       "$schema": "https://vega.github.io/schema/vega-lite/v4.8.1.json",
       "config": {
        "axis": {
         "labelFontSize": 12,
         "titleFontSize": 13
        },
        "title": {
         "fontSize": 20,
         "subtitleFontSize": 15
        },
        "view": {
         "continuousHeight": 300,
         "continuousWidth": 400
        }
       },
       "title": {
        "subtitle": [
         "Top 5 games in each region are labelled. Overall Regional perfomance shown below.",
         ""
        ],
        "text": "Distribution of games titles across each Region by Genre."
       },
       "vconcat": [
        {
         "hconcat": [
          {
           "layer": [
            {
             "data": {
              "url": "http://localhost:20716/1e0eb71e60e9d91e2536d8e7f0e62bb3.json"
             },
             "encoding": {
              "color": {
               "field": "Genre",
               "scale": {
                "scheme": "category20"
               },
               "type": "nominal"
              },
              "tooltip": {
               "field": "Name",
               "type": "nominal"
              },
              "x": {
               "field": "Genre",
               "sort": [
                "Action",
                "Sports",
                "Shooter",
                "Platform",
                "Misc",
                "Racing",
                "Role-Playing",
                "Fighting",
                "Simulation",
                "Puzzle",
                "Adventure",
                "Strategy"
               ],
               "title": null,
               "type": "nominal"
              },
              "y": {
               "field": "Sales",
               "stack": null,
               "title": "Sales (in millions)",
               "type": "quantitative"
              }
             },
             "mark": {
              "size": 50,
              "type": "circle"
             }
            },
            {
             "data": {
              "url": "http://localhost:20716/51dd0f701d7c6ea5cbdc28f740c6e9ed.json"
             },
             "encoding": {
              "text": {
               "field": "Name",
               "type": "nominal"
              },
              "x": {
               "field": "Genre",
               "sort": [
                "Action",
                "Sports",
                "Shooter",
                "Platform",
                "Misc",
                "Racing",
                "Role-Playing",
                "Fighting",
                "Simulation",
                "Puzzle",
                "Adventure",
                "Strategy"
               ],
               "type": "nominal"
              },
              "y": {
               "field": "Sales",
               "type": "quantitative"
              }
             },
             "mark": {
              "align": "left",
              "dx": 10,
              "type": "text"
             },
             "title": "NA Sales"
            }
           ],
           "width": 250
          },
          {
           "layer": [
            {
             "data": {
              "url": "http://localhost:20716/3d1344d6cba84474c390245d7f6c3340.json"
             },
             "encoding": {
              "color": {
               "field": "Genre",
               "scale": {
                "scheme": "category20"
               },
               "type": "nominal"
              },
              "tooltip": {
               "field": "Name",
               "type": "nominal"
              },
              "x": {
               "field": "Genre",
               "sort": [
                "Action",
                "Sports",
                "Shooter",
                "Racing",
                "Misc",
                "Platform",
                "Role-Playing",
                "Simulation",
                "Fighting",
                "Adventure",
                "Puzzle",
                "Strategy"
               ],
               "title": null,
               "type": "nominal"
              },
              "y": {
               "field": "Sales",
               "stack": null,
               "title": null,
               "type": "quantitative"
              }
             },
             "mark": {
              "size": 50,
              "type": "circle"
             }
            },
            {
             "data": {
              "url": "http://localhost:20716/859b1030017bdc5bd84c8af24e8e1631.json"
             },
             "encoding": {
              "text": {
               "field": "Name",
               "type": "nominal"
              },
              "x": {
               "field": "Genre",
               "sort": [
                "Action",
                "Sports",
                "Shooter",
                "Racing",
                "Misc",
                "Platform",
                "Role-Playing",
                "Simulation",
                "Fighting",
                "Adventure",
                "Puzzle",
                "Strategy"
               ],
               "type": "nominal"
              },
              "y": {
               "field": "Sales",
               "type": "quantitative"
              }
             },
             "mark": {
              "align": "left",
              "dx": 10,
              "type": "text"
             },
             "title": "EU Sales"
            }
           ],
           "width": 250
          },
          {
           "layer": [
            {
             "data": {
              "url": "http://localhost:20716/9f7901157f8f9d8eff23cdd356e7b540.json"
             },
             "encoding": {
              "color": {
               "field": "Genre",
               "scale": {
                "scheme": "category20"
               },
               "type": "nominal"
              },
              "tooltip": {
               "field": "Name",
               "type": "nominal"
              },
              "x": {
               "field": "Genre",
               "sort": [
                "Role-Playing",
                "Action",
                "Sports",
                "Platform",
                "Misc",
                "Fighting",
                "Simulation",
                "Puzzle",
                "Racing",
                "Adventure",
                "Strategy",
                "Shooter"
               ],
               "title": null,
               "type": "nominal"
              },
              "y": {
               "field": "Sales",
               "stack": null,
               "title": null,
               "type": "quantitative"
              }
             },
             "mark": {
              "size": 50,
              "type": "circle"
             }
            },
            {
             "data": {
              "url": "http://localhost:20716/601f637a710e8794ec375b1896704880.json"
             },
             "encoding": {
              "text": {
               "field": "Name",
               "type": "nominal"
              },
              "x": {
               "field": "Genre",
               "sort": [
                "Role-Playing",
                "Action",
                "Sports",
                "Platform",
                "Misc",
                "Fighting",
                "Simulation",
                "Puzzle",
                "Racing",
                "Adventure",
                "Strategy",
                "Shooter"
               ],
               "type": "nominal"
              },
              "y": {
               "field": "Sales",
               "type": "quantitative"
              }
             },
             "mark": {
              "align": "left",
              "dx": 10,
              "type": "text"
             },
             "title": "JP Sales"
            }
           ],
           "width": 250
          },
          {
           "layer": [
            {
             "data": {
              "url": "http://localhost:20716/afcaf6c44f71875c2de758b03adaff16.json"
             },
             "encoding": {
              "color": {
               "field": "Genre",
               "scale": {
                "scheme": "category20"
               },
               "type": "nominal"
              },
              "tooltip": {
               "field": "Name",
               "type": "nominal"
              },
              "x": {
               "field": "Genre",
               "sort": [
                "Action",
                "Sports",
                "Shooter",
                "Racing",
                "Misc",
                "Role-Playing",
                "Platform",
                "Fighting",
                "Simulation",
                "Adventure",
                "Puzzle",
                "Strategy"
               ],
               "title": null,
               "type": "nominal"
              },
              "y": {
               "field": "Sales",
               "stack": null,
               "title": null,
               "type": "quantitative"
              }
             },
             "mark": {
              "size": 50,
              "type": "circle"
             }
            },
            {
             "data": {
              "url": "http://localhost:20716/56281a5259a17fe2efbabef7e4f2c5b4.json"
             },
             "encoding": {
              "text": {
               "field": "Name",
               "type": "nominal"
              },
              "x": {
               "field": "Genre",
               "sort": [
                "Action",
                "Sports",
                "Shooter",
                "Racing",
                "Misc",
                "Role-Playing",
                "Platform",
                "Fighting",
                "Simulation",
                "Adventure",
                "Puzzle",
                "Strategy"
               ],
               "type": "nominal"
              },
              "y": {
               "field": "Sales",
               "type": "quantitative"
              }
             },
             "mark": {
              "align": "left",
              "dx": 10,
              "type": "text"
             },
             "title": "Other Sales"
            }
           ],
           "width": 250
          }
         ]
        },
        {
         "data": {
          "url": "http://localhost:20716/967a020c0ba7deed1047e9673c6c734a.json"
         },
         "encoding": {
          "color": {
           "field": "Region",
           "legend": null,
           "scale": {
            "scheme": "set1"
           },
           "type": "nominal"
          },
          "x": {
           "aggregate": "sum",
           "field": "Sales",
           "stack": null,
           "title": "Total Number of Sales (in millions)",
           "type": "quantitative"
          },
          "y": {
           "field": "Region",
           "sort": [
            "Action",
            "Sports",
            "Shooter",
            "Role-Playing",
            "Platform",
            "Misc",
            "Racing",
            "Fighting",
            "Simulation",
            "Puzzle",
            "Adventure",
            "Strategy"
           ],
           "type": "nominal"
          }
         },
         "mark": {
          "opacity": 0.5,
          "type": "bar"
         },
         "resolve": {
          "scale": {
           "color": "independent"
          }
         },
         "width": 1210
        }
       ]
      },
      "image/png": "[encoded data removed]",
      "text/plain": [
       "<VegaLite 4 object>\n",
       "\n",
       "If you see this message, it means the renderer has not been properly enabled\n",
       "for the frontend that you are using. For more information, see\n",
       "https://altair-viz.github.io/user_guide/troubleshooting.html\n"
      ]
     },
     "execution_count": 20,
     "metadata": {},
     "output_type": "execute_result"
    }
   ],
   "source": [
    "name_sales"
   ]
  },
  {
   "cell_type": "markdown",
   "metadata": {},
   "source": [
    "4) **Growth of Game Genres, Publishers and Platforms over the Years**"
   ]
  },
  {
   "cell_type": "markdown",
   "metadata": {},
   "source": [
    "- From our dataset we see that the year around 2010 were of highest games sales activity.\n",
    "- In 1980 we had only two game companies/publishers make five genre of games. \n",
    "- Lots of different publishers entered the gaming market with over 180 gaming companies around 2010 offering different gaming products.\n",
    "- Its interesting to see that the number of gaming consoles/platforms (like Xbox, PS5) have not increased. These consoles need bigger investment and only big gaming industry players held that market segment."
   ]
  },
  {
   "cell_type": "code",
   "execution_count": 10,
   "metadata": {},
   "outputs": [
    {
     "data": {
      "application/vnd.vegalite.v4+json": {
       "$schema": "https://vega.github.io/schema/vega-lite/v4.8.1.json",
       "config": {
        "view": {
         "continuousHeight": 300,
         "continuousWidth": 400
        }
       },
       "data": {
        "url": "http://localhost:20716/8502e43d33bc5acd94974261c847871a.json"
       },
       "encoding": {
        "color": {
         "field": "key",
         "legend": {
          "title": "Feature"
         },
         "type": "nominal"
        },
        "x": {
         "field": "Year",
         "type": "ordinal"
        },
        "y": {
         "axis": {
          "title": "Number of Genre/Publishers/Platforms"
         },
         "field": "value",
         "type": "quantitative"
        }
       },
       "mark": {
        "point": true,
        "type": "bar"
       },
       "transform": [
        {
         "fold": [
          "Genre",
          "Publisher",
          "Platform"
         ]
        }
       ],
       "width": 1000
      },
      "image/png": "[encoded data removed]",
      "text/plain": [
       "<VegaLite 4 object>\n",
       "\n",
       "If you see this message, it means the renderer has not been properly enabled\n",
       "for the frontend that you are using. For more information, see\n",
       "https://altair-viz.github.io/user_guide/troubleshooting.html\n"
      ]
     },
     "execution_count": 10,
     "metadata": {},
     "output_type": "execute_result"
    }
   ],
   "source": [
    "plot4"
   ]
  },
  {
   "cell_type": "markdown",
   "metadata": {},
   "source": [
    "5) **Maximum Annual Global Sales Numbers**"
   ]
  },
  {
   "cell_type": "code",
   "execution_count": 11,
   "metadata": {},
   "outputs": [
    {
     "data": {
      "application/vnd.vegalite.v4+json": {
       "$schema": "https://vega.github.io/schema/vega-lite/v4.8.1.json",
       "config": {
        "view": {
         "continuousHeight": 300,
         "continuousWidth": 400
        }
       },
       "data": {
        "url": "http://localhost:20716/448d6585c852bb4587381e6d68d4b43b.json"
       },
       "encoding": {
        "x": {
         "field": "Year",
         "type": "nominal"
        },
        "y": {
         "aggregate": "max",
         "axis": {
          "title": "Maximum Annual Global Sales"
         },
         "field": "Global_Sales",
         "type": "quantitative"
        }
       },
       "mark": {
        "point": true,
        "type": "line"
       },
       "width": 1000
      },
      "image/png": "[encoded data removed]",
      "text/plain": [
       "<VegaLite 4 object>\n",
       "\n",
       "If you see this message, it means the renderer has not been properly enabled\n",
       "for the frontend that you are using. For more information, see\n",
       "https://altair-viz.github.io/user_guide/troubleshooting.html\n"
      ]
     },
     "execution_count": 11,
     "metadata": {},
     "output_type": "execute_result"
    }
   ],
   "source": [
    "plot5"
   ]
  },
  {
   "cell_type": "markdown",
   "metadata": {},
   "source": [
    "#### 7. Future Studies\n",
    "1) **Revenue and marketing model of games**  \n",
    "While this dataset can give us a general idea of popularity of games across years, genres, publishers and platforms, it does not necessarily tell us which genre is most profitable in terms of revenue.  \n",
    "Currently, one of the largest gaming market is `Mobile Gaming` which would not have a metric such as `copies sold` but rather `downloads`. We also know some of the biggest games such as League of Legends, and DOTA 2 run off a \"free to play\" model for PC so they would also not have a \"copies sold\" metric. On top of that, a game that is free, take League of Legends for example, will make money through micro transactions (for example they made $1.75 billion dollars in 2020).  \n",
    "As a more accurate analysis of how platforms, titles, developers and genres are performing in terms of revenue, popularity and activity, we might want to expand and improve the quality and type of data we are looking at. Certain things that we could use as better metrics: \n",
    "- Generic things such as: Game title, year of release, company, genre, platform\n",
    "- We could look at copies sold AND downloads \n",
    "- We could look at concurrent players (as to get a sense of the size of the active player base) *This would be very useful in comparing multi player games and even peak hours of gaming\n",
    "- The payment model of the game (single time purchase, subscription based, free-to-play)\n",
    "- Reported revenue (could be trickier to find)\n",
    "- We can also include things like development cost (could be trickier to find)\n",
    "- Reviews/General consensus  \n",
    "\n",
    "This could be very helpful from a companies perspective to narrow down on a target audience and possible find niche areas of the gaming community that show promise.\n",
    "\n",
    "2) **Viewership and Entertainment**  \n",
    "We could also expand our data set to analyze things in the streaming industry, where there is also big money to be had. Now a days, it seems like many people dream of being a streamer. Just to sit at home and play games all day while raking in large amounts of money, but it would be interesting to see certain stats such as, how much money do you need to break even (average living cost vs income from streaming broken down into views, subs, donations etc.) and to see how many people on platforms such as YouTube gaming, Twitch, Facebook gaming meet this threshold of 'success'. Things you would need would be:  \n",
    "- List of streamers, platform they stream on, hours streamed, revenue\n",
    " \n",
    "You could also look to see if certain genre of games or certain game titles themselves lead to better chances of success. For this you would need to further breakdown streamer information by game played, time streamed, views, donations and subscriptions received during that stream.  \n",
    "Obviously, I feel a lot of this data would be difficult to obtain and that the success of a streamer is heavily influenced by personality, but it would be interesting to see if there is anything that can be identified to give upcoming streamers a slight advantage against big names."
   ]
  },
  {
   "cell_type": "code",
   "execution_count": null,
   "metadata": {},
   "outputs": [],
   "source": []
  },
  {
   "cell_type": "code",
   "execution_count": 29,
   "metadata": {},
   "outputs": [
    {
     "data": {
      "text/html": [
       "<div>\n",
       "<style scoped>\n",
       "    .dataframe tbody tr th:only-of-type {\n",
       "        vertical-align: middle;\n",
       "    }\n",
       "\n",
       "    .dataframe tbody tr th {\n",
       "        vertical-align: top;\n",
       "    }\n",
       "\n",
       "    .dataframe thead th {\n",
       "        text-align: right;\n",
       "    }\n",
       "</style>\n",
       "<table border=\"1\" class=\"dataframe\">\n",
       "  <thead>\n",
       "    <tr style=\"text-align: right;\">\n",
       "      <th></th>\n",
       "      <th>Rank</th>\n",
       "      <th>Name</th>\n",
       "      <th>Platform</th>\n",
       "      <th>Year</th>\n",
       "      <th>Genre</th>\n",
       "      <th>Publisher</th>\n",
       "      <th>Region</th>\n",
       "      <th>Sales</th>\n",
       "    </tr>\n",
       "  </thead>\n",
       "  <tbody>\n",
       "    <tr>\n",
       "      <th>16613</th>\n",
       "      <td>17</td>\n",
       "      <td>Grand Theft Auto V</td>\n",
       "      <td>PS3</td>\n",
       "      <td>2013</td>\n",
       "      <td>Action</td>\n",
       "      <td>Take-Two Interactive</td>\n",
       "      <td>EU_Sales</td>\n",
       "      <td>9.27</td>\n",
       "    </tr>\n",
       "    <tr>\n",
       "      <th>16641</th>\n",
       "      <td>45</td>\n",
       "      <td>Grand Theft Auto V</td>\n",
       "      <td>PS4</td>\n",
       "      <td>2014</td>\n",
       "      <td>Action</td>\n",
       "      <td>Take-Two Interactive</td>\n",
       "      <td>EU_Sales</td>\n",
       "      <td>5.81</td>\n",
       "    </tr>\n",
       "    <tr>\n",
       "      <th>16621</th>\n",
       "      <td>25</td>\n",
       "      <td>Grand Theft Auto: Vice City</td>\n",
       "      <td>PS2</td>\n",
       "      <td>2002</td>\n",
       "      <td>Action</td>\n",
       "      <td>Take-Two Interactive</td>\n",
       "      <td>EU_Sales</td>\n",
       "      <td>5.49</td>\n",
       "    </tr>\n",
       "    <tr>\n",
       "      <th>16620</th>\n",
       "      <td>24</td>\n",
       "      <td>Grand Theft Auto V</td>\n",
       "      <td>X360</td>\n",
       "      <td>2013</td>\n",
       "      <td>Action</td>\n",
       "      <td>Take-Two Interactive</td>\n",
       "      <td>EU_Sales</td>\n",
       "      <td>5.31</td>\n",
       "    </tr>\n",
       "    <tr>\n",
       "      <th>16679</th>\n",
       "      <td>83</td>\n",
       "      <td>FIFA Soccer 13</td>\n",
       "      <td>PS3</td>\n",
       "      <td>2012</td>\n",
       "      <td>Action</td>\n",
       "      <td>Electronic Arts</td>\n",
       "      <td>EU_Sales</td>\n",
       "      <td>5.05</td>\n",
       "    </tr>\n",
       "    <tr>\n",
       "      <th>...</th>\n",
       "      <td>...</td>\n",
       "      <td>...</td>\n",
       "      <td>...</td>\n",
       "      <td>...</td>\n",
       "      <td>...</td>\n",
       "      <td>...</td>\n",
       "      <td>...</td>\n",
       "      <td>...</td>\n",
       "    </tr>\n",
       "    <tr>\n",
       "      <th>29586</th>\n",
       "      <td>12992</td>\n",
       "      <td>Strawberry Shortcake: Strawberryland Games</td>\n",
       "      <td>DS</td>\n",
       "      <td>2006</td>\n",
       "      <td>Action</td>\n",
       "      <td>Game Factory</td>\n",
       "      <td>EU_Sales</td>\n",
       "      <td>0.00</td>\n",
       "    </tr>\n",
       "    <tr>\n",
       "      <th>29589</th>\n",
       "      <td>12995</td>\n",
       "      <td>Hysteria Hospital: Emergency Ward</td>\n",
       "      <td>Wii</td>\n",
       "      <td>2009</td>\n",
       "      <td>Action</td>\n",
       "      <td>Oxygen Interactive</td>\n",
       "      <td>EU_Sales</td>\n",
       "      <td>0.00</td>\n",
       "    </tr>\n",
       "    <tr>\n",
       "      <th>25300</th>\n",
       "      <td>8706</td>\n",
       "      <td>Senran Kagura: Sh?jo-tachi no Shinei</td>\n",
       "      <td>3DS</td>\n",
       "      <td>2011</td>\n",
       "      <td>Action</td>\n",
       "      <td>Marvelous Interactive</td>\n",
       "      <td>EU_Sales</td>\n",
       "      <td>0.00</td>\n",
       "    </tr>\n",
       "    <tr>\n",
       "      <th>29621</th>\n",
       "      <td>13027</td>\n",
       "      <td>Luminous Arc Infinity</td>\n",
       "      <td>PSV</td>\n",
       "      <td>2015</td>\n",
       "      <td>Action</td>\n",
       "      <td>Marvel Entertainment</td>\n",
       "      <td>EU_Sales</td>\n",
       "      <td>0.00</td>\n",
       "    </tr>\n",
       "    <tr>\n",
       "      <th>33185</th>\n",
       "      <td>16592</td>\n",
       "      <td>Chou Ezaru wa Akai Hana: Koi wa Tsuki ni Shiru...</td>\n",
       "      <td>PSV</td>\n",
       "      <td>2016</td>\n",
       "      <td>Action</td>\n",
       "      <td>dramatic create</td>\n",
       "      <td>EU_Sales</td>\n",
       "      <td>0.00</td>\n",
       "    </tr>\n",
       "  </tbody>\n",
       "</table>\n",
       "<p>3316 rows × 8 columns</p>\n",
       "</div>"
      ],
      "text/plain": [
       "        Rank                                               Name Platform  \\\n",
       "16613     17                                 Grand Theft Auto V      PS3   \n",
       "16641     45                                 Grand Theft Auto V      PS4   \n",
       "16621     25                        Grand Theft Auto: Vice City      PS2   \n",
       "16620     24                                 Grand Theft Auto V     X360   \n",
       "16679     83                                     FIFA Soccer 13      PS3   \n",
       "...      ...                                                ...      ...   \n",
       "29586  12992         Strawberry Shortcake: Strawberryland Games       DS   \n",
       "29589  12995                  Hysteria Hospital: Emergency Ward      Wii   \n",
       "25300   8706               Senran Kagura: Sh?jo-tachi no Shinei      3DS   \n",
       "29621  13027                              Luminous Arc Infinity      PSV   \n",
       "33185  16592  Chou Ezaru wa Akai Hana: Koi wa Tsuki ni Shiru...      PSV   \n",
       "\n",
       "       Year   Genre              Publisher    Region  Sales  \n",
       "16613  2013  Action   Take-Two Interactive  EU_Sales   9.27  \n",
       "16641  2014  Action   Take-Two Interactive  EU_Sales   5.81  \n",
       "16621  2002  Action   Take-Two Interactive  EU_Sales   5.49  \n",
       "16620  2013  Action   Take-Two Interactive  EU_Sales   5.31  \n",
       "16679  2012  Action        Electronic Arts  EU_Sales   5.05  \n",
       "...     ...     ...                    ...       ...    ...  \n",
       "29586  2006  Action           Game Factory  EU_Sales   0.00  \n",
       "29589  2009  Action     Oxygen Interactive  EU_Sales   0.00  \n",
       "25300  2011  Action  Marvelous Interactive  EU_Sales   0.00  \n",
       "29621  2015  Action   Marvel Entertainment  EU_Sales   0.00  \n",
       "33185  2016  Action        dramatic create  EU_Sales   0.00  \n",
       "\n",
       "[3316 rows x 8 columns]"
      ]
     },
     "execution_count": 29,
     "metadata": {},
     "output_type": "execute_result"
    }
   ],
   "source": [
    "sales_data[(sales_data.Region==\"EU_Sales\") & (sales_data.Genre==\"Action\")].sort_values(\"Sales\",ascending=False)"
   ]
  },
  {
   "cell_type": "code",
   "execution_count": null,
   "metadata": {},
   "outputs": [],
   "source": [
    "max_year = 2020\n",
    "sales_data = game_melt.loc[game_melt.Region != \"Global_Sales\",:]\n",
    "sales_data_platform = sales_data.groupby([\"Platform\",\"Year\",\"Genre\",\"Region\"]).sum().reset_index()[[\"Platform\",\"Year\",\"Genre\",\"Region\",\"Sales\"]]\n",
    "sales_data_platform\n",
    "sales_data_platform[sales_data_platform.Year <= max_year].groupby([\"Platform\",\"Genre\",\"Region\"]).sum().reset_index()[[\"Platform\",\"Genre\",\"Region\",\"Sales\"]]\n",
    "list(sales_data[(sales_data.Region==region_filter) & (sales_data.Year <= max_year)].groupby(\"Genre\").sum().sort_values(\"Sales\",ascending=False).index)  "
   ]
  },
  {
   "cell_type": "code",
   "execution_count": null,
   "metadata": {},
   "outputs": [],
   "source": [
    "\n",
    "sales_data_platform = sales_data.groupby([\"Platform\",\"Year\",\"Genre\",\"Region\"]).sum().reset_index()[[\"Platform\",\"Year\",\"Genre\",\"Region\",\"Sales\"]]\n",
    "max_year = 1999\n",
    "region_filter = \"NA_Sales\"\n",
    "\n",
    "def platform_plot(region_filter,max_year=2020):\n",
    "    sorted_genre = list(sales_data[(sales_data.Region==region_filter) & (sales_data.Year <= max_year)].groupby(\"Genre\").sum().sort_values(\"Sales\",ascending=False).index)   \n",
    "    filtered_set = sales_data_platform[sales_data_platform.Year <= max_year].groupby([\"Platform\",\"Genre\",\"Region\"]).sum().reset_index()[[\"Platform\",\"Genre\",\"Region\",\"Sales\"]]\n",
    "\n",
    "    chart=alt.Chart(filtered_set[filtered_set.Region==region_filter]).mark_circle(size=50).encode(\n",
    "        alt.X(\"Genre\",sort=sorted_genre,title=None),\n",
    "        alt.Y(\"Sales:Q\",stack=None, title=\"Sales (in millions)\"),\n",
    "        alt.Color(\"Genre\",scale=alt.Scale(scheme='category20')),\n",
    "        alt.Tooltip(\"Platform\"))\n",
    "    chart = chart + alt.Chart(filtered_set[filtered_set.Region==region_filter].sort_values(\"Sales\",ascending=False).iloc[:5,]).mark_text(align = \"left\", dx=10).encode(\n",
    "        alt.X(\"Genre\",sort=sorted_genre),\n",
    "        alt.Y(\"Sales:Q\"),\n",
    "        text=\"Platform\")\n",
    "    return chart\n",
    "x = platform_plot(region_filter,max_year)\n",
    "x\n",
    "# chart = chart + alt.Chart(sales_data_platform[sales_data_platform.Region==region_filter].sort_values(\"Sales\",ascending=False).iloc[:5,]).mark_text(align = \"left\", dx=10).encode(\n",
    "#     alt.X(\"Genre\",sort=sorted_genre),\n",
    "#     alt.Y(\"Sales:Q\"),\n",
    "#     text=\"Name\")\n"
   ]
  },
  {
   "cell_type": "code",
   "execution_count": null,
   "metadata": {},
   "outputs": [],
   "source": [
    "sales_data_publisher = sales_data.groupby([\"Publisher\",\"Year\",\"Genre\",\"Region\"]).sum().reset_index()[[\"Publisher\",\"Year\",\"Genre\",\"Region\",\"Sales\"]]\n",
    "max_year = 2020\n",
    "region_filter = \"NA_Sales\"\n",
    "\n",
    "def test(region_filter,max_year=2020):\n",
    "    sorted_genre = list(sales_data[(sales_data.Region==region_filter) & (sales_data.Year <= max_year)].groupby(\"Genre\").sum().sort_values(\"Sales\",ascending=False).index)   \n",
    "    filtered_set = sales_data_publisher[sales_data_publisher.Year <= max_year].groupby([\"Publisher\",\"Genre\",\"Region\"]).sum().reset_index()[[\"Publisher\",\"Genre\",\"Region\",\"Sales\"]]\n",
    "\n",
    "    chart=alt.Chart(filtered_set[filtered_set.Region==region_filter]).mark_circle(size=50).encode(\n",
    "        alt.X(\"Genre\",sort=sorted_genre,title=None),\n",
    "        alt.Y(\"Sales:Q\",stack=None, title=\"Sales (in millions)\"),\n",
    "        alt.Color(\"Genre\",scale=alt.Scale(scheme='category20'),legend=None),\n",
    "        alt.Tooltip(\"Publisher\"))\n",
    "    chart = chart + alt.Chart(filtered_set[filtered_set.Region==region_filter].sort_values(\"Sales\",ascending=False).iloc[:5,]).mark_text(align = \"left\", dx=10).encode(\n",
    "        alt.X(\"Genre\",sort=sorted_genre),\n",
    "        alt.Y(\"Sales:Q\"),\n",
    "        text=\"Publisher\")\n",
    "    return chart\n",
    "x = test(region_filter,max_year)\n",
    "x"
   ]
  },
  {
   "cell_type": "code",
   "execution_count": null,
   "metadata": {},
   "outputs": [],
   "source": [
    "sales_data_publisher = sales_data.groupby([\"Publisher\",\"Year\",\"Genre\",\"Region\"]).sum().reset_index()[[\"Publisher\",\"Year\",\"Genre\",\"Region\",\"Sales\"]]\n",
    "sales_data_publisher"
   ]
  },
  {
   "cell_type": "code",
   "execution_count": null,
   "metadata": {},
   "outputs": [],
   "source": [
    "filtered_set = sales_data[sales_data.Year <= max_year].groupby([\"Name\",\"Genre\",\"Region\"]).sum().reset_index()[[\"Name\",\"Genre\",\"Region\",\"Sales\"]]\n",
    "filtered_set"
   ]
  },
  {
   "cell_type": "code",
   "execution_count": null,
   "metadata": {},
   "outputs": [],
   "source": []
  }
 ],
 "metadata": {
  "kernelspec": {
   "display_name": "Python 3",
   "language": "python",
   "name": "python3"
  },
  "language_info": {
   "codemirror_mode": {
    "name": "ipython",
    "version": 3
   },
   "file_extension": ".py",
   "mimetype": "text/x-python",
   "name": "python",
   "nbconvert_exporter": "python",
   "pygments_lexer": "ipython3",
   "version": "3.8.3"
  }
 },
 "nbformat": 4,
 "nbformat_minor": 4
}
